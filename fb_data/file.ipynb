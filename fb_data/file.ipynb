{
 "cells": [
  {
   "cell_type": "code",
   "execution_count": null,
   "id": "7b65fb2b",
   "metadata": {},
   "outputs": [
    {
     "name": "stdout",
     "output_type": "stream",
     "text": [
      "Headers in 15 oct 2023.xlsx: ['Group Name', 'Group Url', 'Group ID', 'Profile Url', 'Profile ID', 'Email', 'Phone', 'Birthday', 'First Name', 'Last Name', 'Gender', 'Full Name', 'Work ', 'Position', 'Hometown', 'Location', 'Education']\n",
      "Headers in All posts Previous to 2023-03-08.xlsx: ['poster_id', 'post_text', 'Post URL', 'created_time', 'Poster URL', 'Post ID', 'post_type', 'poster_name', 'shares_count', 'comment_count', 'link_attached', 'likes_count', 'wow_count', 'love_count', 'haha_count', 'angry_count', 'sad_count', 'Post Category']\n",
      "Headers in MDS Amazon - Million Dollar Sellers Community (Master First Export).xlsx: ['Member URL', 'ID', 'his posts count ', 'his comments count', 'Name', 'Mobile', 'Email', 'Gender', 'Birthday', 'Education', 'Work', 'Position', 'Hometown', 'Location']\n",
      "Headers in 15 aug.xlsx: ['Group Name', 'Group Url', 'Group ID', 'Profile Url', 'Profile ID', 'Email', 'Phone', 'Birthday', 'First Name', 'Last Name', 'Gender', 'Full Name', 'Work ', 'Position', 'Hometown', 'Location', 'Education']\n",
      "Headers in 15 june 2023.xlsx: ['Group Name', 'Group Url', 'Group ID', 'Profile Url', 'Profile ID', 'Email', 'Phone', 'Birthday', 'First Name', 'Last Name', 'Gender', 'Full Name', 'Work ', 'Position', 'Hometown', 'Location', 'Education']\n",
      "Headers in Fb Group Scrapped Data.xlsx: ['Member URL', 'ID', 'his posts count ', 'his comments count', 'Name', 'Mobile', 'Email', 'Gender', 'Birthday', 'Education', 'Work', 'Position', 'Hometown', 'Location', 'Unnamed: 14', 'Unnamed: 15']\n",
      "Headers in 30 may 2023 task.xlsx: ['Group Name', 'Group Url', 'Group ID', 'Profile Url', 'Profile ID', 'Email', 'Phone', 'Birthday', 'First Name', 'Last Name', 'Gender', 'Full Name', 'Work ', 'Position', 'Hometown', 'Location', 'Education']\n",
      "Headers in 4_29_2023.xlsx: ['ID', 'Reporting Date', 'Profile Name', 'Link to Group', 'Date Joined', 'Profile Photo', 'Member ID', 'Group ID', 'Group Name', 'Designation', 'Badges', 'Posts-Last 90 Days', 'Comments-Last 90 Days', 'Engagements-Last 90 Days', 'Last Post Date', 'Profile URL', 'Last Post URL', 'Post Content']\n"
     ]
    }
   ],
   "source": [
    "\n",
    "import pandas as pd\n",
    "import os\n",
    "\n",
    "folder_path = './2023'  \n",
    "\n",
    "for filename in os.listdir(folder_path):\n",
    "    if filename.endswith('.xlsx'):\n",
    "        file_path = os.path.join(folder_path, filename)\n",
    "        df = pd.read_excel(file_path)\n",
    "        headers = df.columns.tolist()\n",
    "        print(f\"Headers in {filename}: {headers}\")"
   ]
  },
  {
   "cell_type": "code",
   "execution_count": null,
   "id": "bedbf99a",
   "metadata": {},
   "outputs": [
    {
     "name": "stdout",
     "output_type": "stream",
     "text": [
      "Headers in 2024 Facebook Data.xlsx: ['poster_name', 'post_url', 'post_date', 'post_text', 'group']\n",
      "Headers in 15 may task (1).xlsx: ['Group Name', 'Group Url', 'Group ID', 'Profile Url', 'Profile ID', 'Email', 'Phone', 'Birthday', 'First Name', 'Last Name', 'Gender', 'Full Name', 'Work ', 'Position', 'Hometown', 'Location', 'Education']\n",
      "Headers in 02_29_2024.xlsx: ['profile_id', 'Reporting Date', 'Profile Name', 'Link to Group', 'joined_date', 'Unnamed: 5', 'Member ID', 'Group ID', 'Group Name', 'Designation', 'Badges', 'Posts-Last 15 Days', 'Comments-Last 15 Days', 'Engagements-Last 90 Days', 'Member ID.1', 'last post date', 'profile_url', 'Last Post URL', 'Post Content']\n",
      "Headers in FB Data ID.xlsx: ['ID', 'Unnamed: 1', 'Unnamed: 2']\n",
      "Could not read _$15 may task.xlsx: File is not a zip file\n"
     ]
    }
   ],
   "source": [
    "\n",
    "import pandas as pd\n",
    "import os\n",
    "\n",
    "folder_path = './2024' \n",
    "\n",
    "for filename in os.listdir(folder_path):\n",
    "    if filename.endswith('.xlsx'):\n",
    "        file_path = os.path.join(folder_path, filename)\n",
    "        try:\n",
    "            df = pd.read_excel(file_path, engine='openpyxl')\n",
    "            headers = df.columns.tolist()\n",
    "            print(f\"Headers in {filename}: {headers}\")\n",
    "        except Exception as e:\n",
    "            print(f\"Could not read {filename}: {e}\")"
   ]
  },
  {
   "cell_type": "code",
   "execution_count": null,
   "id": "8fdf5529",
   "metadata": {},
   "outputs": [
    {
     "name": "stdout",
     "output_type": "stream",
     "text": [
      "Headers in 2025.xlsx: ['poster_id', 'post_text', 'post_url', 'created_time', 'poster_url', 'post_id', 'poster_name', 'shares_count', 'comment_count', 'reactions_count', 'post_group']\n"
     ]
    }
   ],
   "source": [
    "\n",
    "import pandas as pd\n",
    "import os\n",
    "\n",
    "folder_path = './2025'\n",
    "\n",
    "for filename in os.listdir(folder_path):\n",
    "    if filename.endswith('.xlsx'):\n",
    "        file_path = os.path.join(folder_path, filename)\n",
    "        try:\n",
    "            df = pd.read_excel(file_path, engine='openpyxl')\n",
    "            headers = df.columns.tolist()\n",
    "            print(f\"Headers in {filename}: {headers}\")\n",
    "        except Exception as e:\n",
    "            print(f\"Could not read {filename}: {e}\")"
   ]
  },
  {
   "cell_type": "code",
   "execution_count": null,
   "id": "7f882125",
   "metadata": {},
   "outputs": [
    {
     "name": "stdout",
     "output_type": "stream",
     "text": [
      "Headers in 1 feb (1).xlsx: ['Group Name', 'Group Url', 'Group ID', 'Profile Url', 'Profile ID', 'Email', 'Phone', 'Birthday', 'First Name', 'Last Name', 'Gender', 'Full Name', 'Work ', 'Position', 'Hometown', 'Location', 'Education']\n",
      "Headers in All Posts November 30 - February 15.xlsx: ['Group Name', 'Group Url', 'Post Url', 'Post ID', 'created_time', 'Unnamed: 5', 'updated time ', 'post_type', 'poster_name', 'poster_id', 'shares_count', 'comment_count', 'link_attached', 'likes_count', 'wow_count', 'love_count', 'haha_count', 'angry_count', 'sad_count', 'post_text']\n",
      "Headers in 15 Dec.xlsx: ['Group Name', 'Group Url', 'Group ID', 'Profile Url', 'Profile ID', 'Email', 'Phone', 'Birthday', 'First Name', 'Last Name', 'Gender', 'Full Name', 'Work ', 'Position', 'Hometown', 'Location', 'Education', 'Unnamed: 17']\n",
      "Headers in 30 Nov (1).xlsx: ['Group Name', 'Group Url', 'Group ID', 'Profile Url', 'Profile ID', 'Email', 'Phone', 'Birthday', 'First Name', 'Last Name', 'Gender', 'Full Name', 'Work ', 'Position', 'Hometown', 'Location', 'Education']\n",
      "Headers in 31 Dec (1).xlsx: ['Group Name', 'Group Url', 'Group ID', 'Profile Url', 'Profile ID', 'Email', 'Phone', 'Birthday', 'First Name', 'Last Name', 'Gender', 'Full Name', 'Work ', 'Position', 'Hometown', 'Location', 'Education']\n",
      "Headers in 15 jan.xlsx: ['Group Name', 'Group Url', 'Group ID', 'Profile Url', 'Profile ID', 'Email', 'Phone', 'Birthday', 'First Name', 'Last Name', 'Gender', 'Full Name', 'Work ', 'Position', 'Hometown', 'Location', 'Education']\n"
     ]
    }
   ],
   "source": [
    "\n",
    "import pandas as pd\n",
    "import os\n",
    "\n",
    "folder_path = './Last 90 Days for Prosper MDSx'  \n",
    "for filename in os.listdir(folder_path):\n",
    "    if filename.endswith('.xlsx'):\n",
    "        file_path = os.path.join(folder_path, filename)\n",
    "        try:\n",
    "            df = pd.read_excel(file_path, engine='openpyxl')\n",
    "            headers = df.columns.tolist()\n",
    "            print(f\"Headers in {filename}: {headers}\")\n",
    "        except Exception as e:\n",
    "            print(f\"Could not read {filename}: {e}\")"
   ]
  },
  {
   "cell_type": "code",
   "execution_count": null,
   "id": "f28fc978",
   "metadata": {},
   "outputs": [
    {
     "name": "stdout",
     "output_type": "stream",
     "text": [
      "\n",
      " All posts Previous to 2023-03-08.xlsx:\n",
      "['poster_id', 'post_text', 'Post URL', 'created_time', 'Poster URL', 'Post ID', 'post_type', 'poster_name', 'shares_count', 'comment_count', 'link_attached', 'likes_count', 'wow_count', 'love_count', 'haha_count', 'angry_count', 'sad_count', 'Post Category']\n",
      "\n",
      " 2024 Facebook Data.xlsx:\n",
      "['poster_name', 'post_url', 'post_date', 'post_text', 'group']\n",
      "\n",
      " 2025.xlsx:\n",
      "['poster_id', 'post_text', 'post_url', 'created_time', 'poster_url', 'post_id', 'poster_name', 'shares_count', 'comment_count', 'reactions_count', 'post_group']\n",
      "\n",
      " All Posts November 30 - February 15.xlsx:\n",
      "['Group Name', 'Group Url', 'Post Url', 'Post ID', 'created_time', 'Unnamed: 5', 'updated time ', 'post_type', 'poster_name', 'poster_id', 'shares_count', 'comment_count', 'link_attached', 'likes_count', 'wow_count', 'love_count', 'haha_count', 'angry_count', 'sad_count', 'post_text']\n",
      "\n",
      " 4_29_2023.xlsx:\n",
      "['ID', 'Reporting Date', 'Profile Name', 'Link to Group', 'Date Joined', 'Profile Photo', 'Member ID', 'Group ID', 'Group Name', 'Designation', 'Badges', 'Posts-Last 90 Days', 'Comments-Last 90 Days', 'Engagements-Last 90 Days', 'Last Post Date', 'Profile URL', 'Last Post URL', 'Post Content']\n",
      "\n",
      " 02_29_2024.xlsx:\n",
      "['profile_id', 'Reporting Date', 'Profile Name', 'Link to Group', 'joined_date', 'Unnamed: 5', 'Member ID', 'Group ID', 'Group Name', 'Designation', 'Badges', 'Posts-Last 15 Days', 'Comments-Last 15 Days', 'Engagements-Last 90 Days', 'Member ID.1', 'last post date', 'profile_url', 'Last Post URL', 'Post Content']\n"
     ]
    }
   ],
   "source": [
    "import pandas as pd\n",
    "import os\n",
    "\n",
    "\n",
    "data_folder = \"./\" \n",
    "\n",
    "\n",
    "post_files = [\n",
    "    \"2023/All posts Previous to 2023-03-08.xlsx\",\n",
    "    \"2024/2024 Facebook Data.xlsx\",\n",
    "    \"2025/2025.xlsx\",\n",
    "    \"Last 90 Days for Prosper MDSx/All Posts November 30 - February 15.xlsx\",\n",
    "    \"2023/4_29_2023.xlsx\",\n",
    "    \"2024/02_29_2024.xlsx\"\n",
    "]\n",
    "\n",
    "# display headers \n",
    "def read_headers(file_path):\n",
    "    try:\n",
    "        df = pd.read_excel(file_path, nrows=1)\n",
    "        print(f\"\\n {os.path.basename(file_path)}:\")\n",
    "        print(list(df.columns))\n",
    "    except Exception as e:\n",
    "        print(f\"\\n Error reading {os.path.basename(file_path)}: {e}\")\n",
    "\n",
    "#  read headers\n",
    "for file_name in post_files:\n",
    "    full_path = os.path.join(data_folder, file_name)\n",
    "    read_headers(full_path)\n"
   ]
  },
  {
   "cell_type": "code",
   "execution_count": 6,
   "id": "cea425e4",
   "metadata": {},
   "outputs": [],
   "source": [
    "standard_columns = [\n",
    "    \"post_id\", \"post_text\", \"poster_name\", \"poster_id\", \"poster_url\", \"post_url\",\n",
    "    \"created_time\", \"year\", \"group_name\", \"group_url\", \"post_type\",\n",
    "    \"likes_count\", \"comment_count\", \"shares_count\", \"reactions_breakdown\",\n",
    "    \"link_attached\",  \"source_file\"\n",
    "]"
   ]
  },
  {
   "cell_type": "code",
   "execution_count": 7,
   "id": "ba079294",
   "metadata": {},
   "outputs": [],
   "source": [
    "def extract_year(value):\n",
    "    try:\n",
    "        return pd.to_datetime(value).year\n",
    "    except:\n",
    "        return None"
   ]
  },
  {
   "cell_type": "code",
   "execution_count": 8,
   "id": "18890e45",
   "metadata": {},
   "outputs": [],
   "source": [
    "def safe_get(row, *keys):\n",
    "    for key in keys:\n",
    "        if key in row and pd.notna(row[key]):\n",
    "            return row[key]\n",
    "    return None"
   ]
  },
  {
   "cell_type": "code",
   "execution_count": 9,
   "id": "c3d24d34",
   "metadata": {},
   "outputs": [],
   "source": [
    "def parse_file(full_path):\n",
    "    df = pd.read_excel(full_path)\n",
    "    source_file = os.path.basename(full_path)\n",
    "    records = []\n",
    "\n",
    "    for _, row in df.iterrows():\n",
    "        record = {\n",
    "            \"post_id\": safe_get(row, 'Post ID', 'post_id', 'ID'),\n",
    "            \"post_text\": safe_get(row, 'post_text', 'Post Content'),\n",
    "            \"poster_name\": safe_get(row, 'poster_name', 'Profile Name'),\n",
    "            \"poster_id\": safe_get(row, 'poster_id', 'profile_id'),\n",
    "            \"poster_url\": safe_get(row, 'Poster URL', 'profile_url', 'Profile URL'),\n",
    "            \"post_url\": safe_get(row, 'Post URL', 'post_url', 'Last Post URL'),\n",
    "            \"created_time\": safe_get(row, 'created_time', 'post_date', 'Last Post Date', 'last post date'),\n",
    "            \"group_name\": safe_get(row, 'Group Name', 'group'),\n",
    "            \"group_url\": safe_get(row, 'Group Url', 'Link to Group'),\n",
    "            \"post_type\": safe_get(row, 'post_type'),\n",
    "            \"likes_count\": safe_get(row, 'likes_count', 'reactions_count', 'Engagements-Last 90 Days'),\n",
    "            \"comment_count\": safe_get(row, 'comment_count', 'Comments-Last 90 Days'),\n",
    "            \"shares_count\": safe_get(row, 'shares_count'),\n",
    "            \"reactions_breakdown\": {\n",
    "                \"love\": safe_get(row, 'love_count'),\n",
    "                \"haha\": safe_get(row, 'haha_count'),\n",
    "                \"wow\": safe_get(row, 'wow_count'),\n",
    "                \"angry\": safe_get(row, 'angry_count'),\n",
    "                \"sad\": safe_get(row, 'sad_count')\n",
    "            },\n",
    "            \"link_attached\": safe_get(row, 'link_attached'),\n",
    "            # \"post_category\": safe_get(row, 'Post Category'),\n",
    "            \"source_file\": source_file\n",
    "        }\n",
    "        record[\"year\"] = extract_year(record[\"created_time\"])\n",
    "        records.append(record)\n",
    "\n",
    "    return pd.DataFrame(records)"
   ]
  },
  {
   "cell_type": "code",
   "execution_count": 10,
   "id": "0bcbe729",
   "metadata": {},
   "outputs": [],
   "source": [
    "all_posts_df = pd.DataFrame(columns=standard_columns)\n",
    "\n",
    "for file_name in post_files:\n",
    "    full_path = os.path.join(data_folder, file_name)\n",
    "    parsed_df = parse_file(full_path)\n",
    "    all_posts_df = pd.concat([all_posts_df, parsed_df], ignore_index=True)"
   ]
  },
  {
   "cell_type": "code",
   "execution_count": 11,
   "id": "e3f1f9b9",
   "metadata": {},
   "outputs": [],
   "source": [
    "all_posts_df = all_posts_df[standard_columns]"
   ]
  },
  {
   "cell_type": "code",
   "execution_count": 12,
   "id": "687b6807",
   "metadata": {},
   "outputs": [
    {
     "name": "stdout",
     "output_type": "stream",
     "text": [
      "Exported cleaned posts to: ./cleaned_facebook_posts.xlsx\n"
     ]
    }
   ],
   "source": [
    "output_path = os.path.join(data_folder, \"cleaned_facebook_posts.xlsx\")\n",
    "all_posts_df.to_excel(output_path, index=False)\n",
    "print(\"Exported cleaned posts to:\", output_path)"
   ]
  },
  {
   "cell_type": "code",
   "execution_count": 13,
   "id": "61412ae4",
   "metadata": {},
   "outputs": [
    {
     "name": "stdout",
     "output_type": "stream",
     "text": [
      "\n",
      " All posts Previous to 2023-03-08.xlsx:\n",
      "   ➤ Total entries (rows): 36614\n",
      "   ➤ Non-empty values per column:\n",
      "      - poster_id: 36614 non-empty (100.0%)\n",
      "      - Post URL: 36614 non-empty (100.0%)\n",
      "      - likes_count: 36614 non-empty (100.0%)\n",
      "      - created_time: 36614 non-empty (100.0%)\n",
      "      - Poster URL: 36614 non-empty (100.0%)\n",
      "      - Post ID: 36614 non-empty (100.0%)\n",
      "      - post_type: 36614 non-empty (100.0%)\n",
      "      - poster_name: 36614 non-empty (100.0%)\n",
      "      - shares_count: 36614 non-empty (100.0%)\n",
      "      - comment_count: 36614 non-empty (100.0%)\n",
      "      - sad_count: 36614 non-empty (100.0%)\n",
      "      - wow_count: 36614 non-empty (100.0%)\n",
      "      - love_count: 36614 non-empty (100.0%)\n",
      "      - haha_count: 36614 non-empty (100.0%)\n",
      "      - angry_count: 36614 non-empty (100.0%)\n",
      "      - post_text: 36213 non-empty (98.9%)\n",
      "      - link_attached: 13485 non-empty (36.8%)\n",
      "      - Post Category: 0 non-empty (0.0%)\n",
      "\n",
      " 2024 Facebook Data.xlsx:\n",
      "   ➤ Total entries (rows): 3208\n",
      "   ➤ Non-empty values per column:\n",
      "      - poster_name: 3208 non-empty (100.0%)\n",
      "      - post_url: 3208 non-empty (100.0%)\n",
      "      - post_date: 3208 non-empty (100.0%)\n",
      "      - group: 3208 non-empty (100.0%)\n",
      "      - post_text: 3139 non-empty (97.8%)\n",
      "\n",
      " 2025.xlsx:\n",
      "   ➤ Total entries (rows): 1734\n",
      "   ➤ Non-empty values per column:\n",
      "      - poster_id: 1734 non-empty (100.0%)\n",
      "      - post_url: 1734 non-empty (100.0%)\n",
      "      - created_time: 1734 non-empty (100.0%)\n",
      "      - poster_name: 1734 non-empty (100.0%)\n",
      "      - post_id: 1734 non-empty (100.0%)\n",
      "      - post_group: 1734 non-empty (100.0%)\n",
      "      - comment_count: 1732 non-empty (99.9%)\n",
      "      - reactions_count: 1732 non-empty (99.9%)\n",
      "      - shares_count: 1732 non-empty (99.9%)\n",
      "      - poster_url: 1730 non-empty (99.8%)\n",
      "      - post_text: 1717 non-empty (99.0%)\n",
      "\n",
      " All Posts November 30 - February 15.xlsx:\n",
      "   ➤ Total entries (rows): 1136\n",
      "   ➤ Non-empty values per column:\n",
      "      - Group Name: 1136 non-empty (100.0%)\n",
      "      - Group Url: 1136 non-empty (100.0%)\n",
      "      - Post Url: 1136 non-empty (100.0%)\n",
      "      - Post ID: 1136 non-empty (100.0%)\n",
      "      - created_time: 1136 non-empty (100.0%)\n",
      "      - Unnamed: 5: 1136 non-empty (100.0%)\n",
      "      - updated time : 1136 non-empty (100.0%)\n",
      "      - post_type: 1136 non-empty (100.0%)\n",
      "      - poster_name: 1136 non-empty (100.0%)\n",
      "      - poster_id: 1136 non-empty (100.0%)\n",
      "      - shares_count: 1136 non-empty (100.0%)\n",
      "      - comment_count: 1136 non-empty (100.0%)\n",
      "      - link_attached: 1136 non-empty (100.0%)\n",
      "      - likes_count: 1136 non-empty (100.0%)\n",
      "      - wow_count: 1136 non-empty (100.0%)\n",
      "      - love_count: 1136 non-empty (100.0%)\n",
      "      - haha_count: 1136 non-empty (100.0%)\n",
      "      - angry_count: 1136 non-empty (100.0%)\n",
      "      - sad_count: 1136 non-empty (100.0%)\n",
      "      - post_text: 1136 non-empty (100.0%)\n",
      "\n",
      " 4_29_2023.xlsx:\n",
      "   ➤ Total entries (rows): 1438\n",
      "   ➤ Non-empty values per column:\n",
      "      - ID: 1438 non-empty (100.0%)\n",
      "      - Reporting Date: 1438 non-empty (100.0%)\n",
      "      - Profile Name: 1438 non-empty (100.0%)\n",
      "      - Link to Group: 1438 non-empty (100.0%)\n",
      "      - Date Joined: 1438 non-empty (100.0%)\n",
      "      - Member ID: 1438 non-empty (100.0%)\n",
      "      - Group Name: 1438 non-empty (100.0%)\n",
      "      - Group ID: 1438 non-empty (100.0%)\n",
      "      - Designation: 1438 non-empty (100.0%)\n",
      "      - Posts-Last 90 Days: 1438 non-empty (100.0%)\n",
      "      - Engagements-Last 90 Days: 1438 non-empty (100.0%)\n",
      "      - Comments-Last 90 Days: 1438 non-empty (100.0%)\n",
      "      - Profile URL: 1438 non-empty (100.0%)\n",
      "      - Profile Photo: 1431 non-empty (99.5%)\n",
      "      - Last Post URL: 657 non-empty (45.7%)\n",
      "      - Last Post Date: 657 non-empty (45.7%)\n",
      "      - Post Content: 651 non-empty (45.3%)\n",
      "      - Badges: 0 non-empty (0.0%)\n",
      "\n",
      " 02_29_2024.xlsx:\n",
      "   ➤ Total entries (rows): 670\n",
      "   ➤ Non-empty values per column:\n",
      "      - profile_id: 670 non-empty (100.0%)\n",
      "      - Reporting Date: 670 non-empty (100.0%)\n",
      "      - Profile Name: 670 non-empty (100.0%)\n",
      "      - Link to Group: 670 non-empty (100.0%)\n",
      "      - joined_date: 670 non-empty (100.0%)\n",
      "      - Member ID: 670 non-empty (100.0%)\n",
      "      - Group ID: 670 non-empty (100.0%)\n",
      "      - Group Name: 670 non-empty (100.0%)\n",
      "      - Member ID.1: 670 non-empty (100.0%)\n",
      "      - Comments-Last 15 Days: 670 non-empty (100.0%)\n",
      "      - Posts-Last 15 Days: 670 non-empty (100.0%)\n",
      "      - profile_url: 670 non-empty (100.0%)\n",
      "      - Last Post URL: 113 non-empty (16.9%)\n",
      "      - Post Content: 113 non-empty (16.9%)\n",
      "      - last post date: 113 non-empty (16.9%)\n",
      "      - Badges: 0 non-empty (0.0%)\n",
      "      - Designation: 0 non-empty (0.0%)\n",
      "      - Unnamed: 5: 0 non-empty (0.0%)\n",
      "      - Engagements-Last 90 Days: 0 non-empty (0.0%)\n"
     ]
    }
   ],
   "source": [
    "\n",
    "\n",
    "file_path = os.path.join(data_folder, \"cleaned_facebook_posts.xlsx\")\n",
    "def count_summary_per_file(file_path):\n",
    "    try:\n",
    "        df = pd.read_excel(file_path)\n",
    "        total_rows = len(df)\n",
    "        non_empty_counts = df.notna().sum().sort_values(ascending=False)\n",
    "\n",
    "        print(f\"\\n {os.path.basename(file_path)}:\")\n",
    "        print(f\"   ➤ Total entries (rows): {total_rows}\")\n",
    "        print(\"   ➤ Non-empty values per column:\")\n",
    "        for col, count in non_empty_counts.items():\n",
    "            print(f\"      - {col}: {count} non-empty ({(count/total_rows)*100:.1f}%)\")\n",
    "    except Exception as e:\n",
    "        print(f\"\\n Error reading {file_path}: {e}\")\n",
    "\n",
    "\n",
    "for file_name in post_files:\n",
    "    full_path = os.path.join(data_folder, file_name)\n",
    "    count_summary_per_file(full_path)\n"
   ]
  },
  {
   "cell_type": "code",
   "execution_count": null,
   "id": "ec435121",
   "metadata": {},
   "outputs": [
    {
     "name": "stdout",
     "output_type": "stream",
     "text": [
      "\n",
      " cleaned_facebook_posts.xlsx:\n",
      "   ➤ Total entries (rows): 44800\n",
      "   ➤ Non-empty values per column:\n",
      "      - poster_name: 44800 non-empty (100.0%)\n",
      "      - reactions_breakdown: 44800 non-empty (100.0%)\n",
      "      - source_file: 44800 non-empty (100.0%)\n",
      "      - year: 43462 non-empty (97.0%)\n",
      "      - created_time: 43462 non-empty (97.0%)\n",
      "      - post_text: 42963 non-empty (95.9%)\n",
      "      - post_url: 42326 non-empty (94.5%)\n",
      "      - post_id: 40922 non-empty (91.3%)\n",
      "      - comment_count: 40920 non-empty (91.3%)\n",
      "      - likes_count: 40920 non-empty (91.3%)\n",
      "      - poster_id: 40154 non-empty (89.6%)\n",
      "      - shares_count: 39482 non-empty (88.1%)\n",
      "      - poster_url: 38722 non-empty (86.4%)\n",
      "      - post_type: 37750 non-empty (84.3%)\n",
      "      - link_attached: 14621 non-empty (32.6%)\n",
      "      - group_name: 6452 non-empty (14.4%)\n",
      "      - group_url: 3244 non-empty (7.2%)\n"
     ]
    }
   ],
   "source": [
    "\n",
    "file_path = os.path.join(data_folder, \"cleaned_facebook_posts.xlsx\")\n",
    "\n",
    "\n",
    "def count_summary_per_file(file_path):\n",
    "    try:\n",
    "        df = pd.read_excel(file_path)\n",
    "        total_rows = len(df)\n",
    "        non_empty_counts = df.notna().sum().sort_values(ascending=False)\n",
    "\n",
    "        print(f\"\\n {os.path.basename(file_path)}:\")\n",
    "        print(f\"   ➤ Total entries (rows): {total_rows}\")\n",
    "        print(\"   ➤ Non-empty values per column:\")\n",
    "        for col, count in non_empty_counts.items():\n",
    "            print(f\"      - {col}: {count} non-empty ({(count/total_rows)*100:.1f}%)\")\n",
    "    except Exception as e:\n",
    "        print(f\"\\n Error reading {file_path}: {e}\")\n",
    "\n",
    "\n",
    "count_summary_per_file(file_path)\n"
   ]
  }
 ],
 "metadata": {
  "kernelspec": {
   "display_name": ".venv",
   "language": "python",
   "name": "python3"
  },
  "language_info": {
   "codemirror_mode": {
    "name": "ipython",
    "version": 3
   },
   "file_extension": ".py",
   "mimetype": "text/x-python",
   "name": "python",
   "nbconvert_exporter": "python",
   "pygments_lexer": "ipython3",
   "version": "3.12.3"
  }
 },
 "nbformat": 4,
 "nbformat_minor": 5
}
